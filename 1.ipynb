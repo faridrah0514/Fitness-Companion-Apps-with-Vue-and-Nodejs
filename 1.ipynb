{
 "cells": [
  {
   "cell_type": "markdown",
   "metadata": {},
   "source": [
    "# Hacktiv8 Web App Development\n",
    "# Fitness Companion Apps\n",
    "\n",
    "Pada projek _Fitness Companion Apps_ ini, terdapat beberapa hal sebagai berikut:\n",
    "\n",
    "1. Aplikasi ini adalah aplikasi yang dapat mengatur workout harian\n",
    "2. Aplikasi ini menampilkan detail workout berdasarkan card yang tersedia\n",
    "3. Projek ini menitikberatkan penggunaan **Vue** untuk memaintain aspek frontend dan **Express** untuk memaintain aspek backend nya\n",
    "\n",
    "Project ini dimulai menggunakan vue framework pada front-end, express pada back-end, dan vuetify untuk _css styling_.\n",
    "\n",
    "## Menjalankan applikasi\n",
    "### Menjalankan client-side\n",
    " - masuk ke directory client, kemudian execute __npm run serve__, client dijalankan pada port 8080\n",
    "\n",
    "### Menjalankan server-side\n",
    " - masuk ke directory server, kemudian execute __npm start__, server dijalankan pada port 8081\n",
    "\n",
    "## App Functionality\n",
    "\n",
    "**1. Menampilkan 2 card atau button untuk menuju ke Personal Workout dan Heroes Workout.**\n",
    "![Image](./readme/homepage.PNG)\n",
    "\n",
    "- Personal Workout adalah list workout yang diperuntukkan untuk user personal.\n",
    "- Sedangkan Heroes Workout adalah rangkaian workout yang tersedia dengan nama-nama superhero (seperti Batman Workout yang berisikan: 20 squats, 40 punches, etc).\n",
    "\n",
    "**2. Saat user mengakses Personal Workout, user mendapatkan tampilan seperti berikut**\n",
    "![Image](./readme/personalpage.PNG)\n",
    "\n",
    "- User mendapatkan daftar personal workout yang data JSON-nya diambil dari backend menggunakan fetch API dan checkbox pada setiap workout yang dapat di-checklist ketika workout sudah dikerjakan.\n",
    "\n",
    "**3. Ketika user mengakses Heroes Workout (Hero Workout), user mendapatkan tampilan seperti berikut**\n",
    "![Image](./readme/heroespage.PNG)\n",
    "\n",
    "- Daftar workouts yang diatur (Heroes) dengan data berupa JSON yang diambil dari backend menggunakan fetch API.\n",
    "- Setiap workout berisikan gambar, judul workout, dan button \"details\".\n",
    "- Workout detail berbentuk modal\n",
    "- Ketika button details diklik, dan memunculkan modal:\n",
    "\n",
    "![Image](./readme/heroesmodal.png)\n",
    "\n",
    "**4. Halaman Heroes Workout juga memiliki search form, di mana search form ini berguna untuk mencari Heroes Workout tertentu dan melihat detailnya, seperti gambar di bawah ini:**\n",
    "![Image](./readme/searchheroespage.png)\n",
    "\n",
    "- Search form tersebut memiliki text input yang dapat digunakan untuk langsung mem-filter workout. Saat value yang ada pada text input berubah, workout yang cocok dengan inputan tersebut akan muncul.\n",
    "\n",
    "Demikian project My Travel Website ini saya buat.\n",
    "Feel free to comment and give an input\n",
    "\n",
    "**Farid Rahman**\n",
    "\n",
    "fr.farid.rahman@gmail.com"
   ]
  },
  {
   "cell_type": "code",
   "execution_count": null,
   "metadata": {},
   "outputs": [],
   "source": []
  }
 ],
 "metadata": {
  "kernelspec": {
   "display_name": "Python 3",
   "language": "python",
   "name": "python3"
  },
  "language_info": {
   "codemirror_mode": {
    "name": "ipython",
    "version": 3
   },
   "file_extension": ".py",
   "mimetype": "text/x-python",
   "name": "python",
   "nbconvert_exporter": "python",
   "pygments_lexer": "ipython3",
   "version": "3.8.2"
  }
 },
 "nbformat": 4,
 "nbformat_minor": 2
}
